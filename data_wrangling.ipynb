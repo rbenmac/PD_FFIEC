{
 "cells": [
  {
   "cell_type": "code",
   "execution_count": null,
   "id": "5a905137",
   "metadata": {},
   "outputs": [],
   "source": [
    "import pandas as pd\n",
    "import numpy as np\n",
    "import os\n",
    "import glob\n",
    "import zipfile\n",
    "import pyarrow.parquet as pq\n",
    "from functools import reduce\n",
    "import matplotlib.pyplot as plt\n",
    "import seaborn as sns\n",
    "import warnings\n",
    "from config import FAILED_BANK_LIST_FILE, CROSSWALK_CSV, UBPR_PANEL_FILE, REPORTS_DIR, PROCESSED_DATA_DIR\n",
    "\n",
    "\n"
   ]
  },
  {
   "cell_type": "code",
   "execution_count": null,
   "id": "0fce3c9b",
   "metadata": {},
   "outputs": [],
   "source": [
    "warnings.filterwarnings('ignore')\n"
   ]
  },
  {
   "cell_type": "markdown",
   "id": "8643d2e8",
   "metadata": {},
   "source": [
    "# Read in failed bank list\n"
   ]
  },
  {
   "cell_type": "code",
   "execution_count": null,
   "id": "12ea94d8",
   "metadata": {},
   "outputs": [
    {
     "name": "stdout",
     "output_type": "stream",
     "text": [
      "Reading Failed Bank List...\n",
      "                               Bank Name          City State   CERT  \\\n",
      "0           The Santa Anna National Bank    Santa Anna    TX   5520   \n",
      "1                   Pulaski Savings Bank       Chicago    IL  28611   \n",
      "2         First National Bank of Lindsay       Lindsay    OK   4134   \n",
      "3  Republic First Bank dba Republic Bank  Philadelphia    PA  27332   \n",
      "4                          Citizens Bank      Sac City    IA   8758   \n",
      "\n",
      "               Acquiring Institution Closing Date   Fund  \n",
      "0          Coleman County State Bank    27-Jun-25  10549  \n",
      "1                    Millennium Bank    17-Jan-25  10548  \n",
      "2             First Bank & Trust Co.    18-Oct-24  10547  \n",
      "3  Fulton Bank, National Association    26-Apr-24  10546  \n",
      "4          Iowa Trust & Savings Bank     3-Nov-23  10545  \n"
     ]
    }
   ],
   "source": [
    "print(\"Reading Failed Bank List...\")\n",
    "failures = pd.read_csv(FAILED_BANK_LIST_FILE, encoding=\"cp1252\")\n",
    "failures = failures.rename(columns=lambda x: x.strip())\n",
    "if \"Cert\\xa0\" in failures.columns:\n",
    "    failures = failures.rename(columns={\"Cert\\xa0\": \"CERT\"})\n",
    "elif \"Cert\" in failures.columns:\n",
    "    failures = failures.rename(columns={\"Cert\": \"CERT\"})\n",
    "failures[\"CERT\"] = failures[\"CERT\"].astype(str).str.strip()\n",
    "print(failures.head())"
   ]
  },
  {
   "cell_type": "markdown",
   "id": "dfc6d834",
   "metadata": {},
   "source": [
    "# Read in FFIEC keys "
   ]
  },
  {
   "cell_type": "code",
   "execution_count": null,
   "id": "d2ada040",
   "metadata": {},
   "outputs": [
    {
     "name": "stdout",
     "output_type": "stream",
     "text": [
      "\n",
      "Reading FFIEC Keys (Crosswalk)...\n",
      "  ID_RSSD   CERT\n",
      "0      37  10057\n",
      "1     242   3850\n",
      "2     279  28868\n",
      "3     354  14083\n",
      "4     439  16498\n"
     ]
    }
   ],
   "source": [
    "print(\"\\nReading FFIEC Keys (Crosswalk)...\")\n",
    "crosswalk = pd.read_csv(CROSSWALK_CSV)\n",
    "crosswalk['ID_RSSD'] = crosswalk['ID_RSSD'].astype(str).str.strip()\n",
    "crosswalk['CERT'] = crosswalk['CERT'].astype(str).str.strip()\n",
    "print(crosswalk.head())"
   ]
  },
  {
   "cell_type": "markdown",
   "id": "fe121d7c",
   "metadata": {},
   "source": [
    "# Read in UBPR data"
   ]
  },
  {
   "cell_type": "code",
   "execution_count": null,
   "id": "1813852e",
   "metadata": {},
   "outputs": [
    {
     "name": "stdout",
     "output_type": "stream",
     "text": [
      "\n",
      "Reading UBPR Data...\n",
      "         Reporting Period ID RSSD UBPRE006 UBPRE019 UBPRE020 UBPRE021  \\\n",
      "0  12/31/2002 11:59:59 PM      37     0.26     0.62     4.92     3.52   \n",
      "1  12/31/2002 11:59:59 PM     242     0.07     0.11    23.16     6.74   \n",
      "2  12/31/2002 11:59:59 PM     279     0.03     0.01    707.0    176.0   \n",
      "3  12/31/2002 11:59:59 PM     354     0.21     0.38     5.38     8.44   \n",
      "4  12/31/2002 11:59:59 PM     439     0.34     0.41     6.26     2.36   \n",
      "\n",
      "  UBPRE022 UBPRE395 UBPR7316 UBPRE027  ... UBPRE003 UBPRE007 UBPRE009  \\\n",
      "0     2.26     8.42    11.56    -2.89  ...     4.45     1.83     1.84   \n",
      "1      0.7     <NA>     2.05    17.04  ...     4.19     1.65     1.65   \n",
      "2     1.23     <NA>    29.53     8.48  ...     2.76     1.24     1.19   \n",
      "3      3.0     0.52     -1.7    12.17  ...     4.55     0.81     1.01   \n",
      "4     0.95     0.75     2.83      2.4  ...     4.61     1.59     1.59   \n",
      "\n",
      "  UBPRE010 UBPRE014 UBPRE015 UBPRE028 UBPRE029 UBPRKW07 UBPRPG69  \n",
      "0     1.21    94.55     72.1   118.16    60.81     <NA>     2.08  \n",
      "1     1.64    95.08    73.86   -18.98      9.3     <NA>     1.71  \n",
      "2     0.79    96.68    86.77    15.69    -6.15     <NA>     1.27  \n",
      "3      0.8    96.11     69.9   326.92    -30.5     <NA>     1.02  \n",
      "4     0.98    91.16    67.97   -22.31      0.8     <NA>     1.93  \n",
      "\n",
      "[5 rows x 34 columns]\n"
     ]
    }
   ],
   "source": [
    "print(\"\\nReading UBPR Data...\")\n",
    "table = pq.read_table(UBPR_PANEL_FILE)\n",
    "ubpr = table.to_pandas(types_mapper=lambda pa_type: pd.StringDtype())\n",
    "print(ubpr.head())"
   ]
  },
  {
   "cell_type": "markdown",
   "id": "8a392b9b",
   "metadata": {},
   "source": [
    "# Merge all datasets"
   ]
  },
  {
   "cell_type": "code",
   "execution_count": null,
   "id": "a9497590",
   "metadata": {},
   "outputs": [
    {
     "name": "stdout",
     "output_type": "stream",
     "text": [
      "\n",
      "Merging Datasets...\n",
      "     Reporting Period ID RSSD UBPRE006 UBPRE019 UBPRE020 UBPRE021 UBPRE022  \\\n",
      "0 2002-12-31 23:59:59      37     0.26     0.62     4.92     3.52     2.26   \n",
      "1 2002-12-31 23:59:59     242     0.07     0.11    23.16     6.74      0.7   \n",
      "2 2002-12-31 23:59:59     279     0.03     0.01    707.0    176.0     1.23   \n",
      "3 2002-12-31 23:59:59     354     0.21     0.38     5.38     8.44      3.0   \n",
      "4 2002-12-31 23:59:59     439     0.34     0.41     6.26     2.36     0.95   \n",
      "\n",
      "  UBPRE395 UBPR7316 UBPRE027  ... UBPRE014 UBPRE015 UBPRE028 UBPRE029  \\\n",
      "0     8.42    11.56    -2.89  ...    94.55     72.1   118.16    60.81   \n",
      "1     <NA>     2.05    17.04  ...    95.08    73.86   -18.98      9.3   \n",
      "2     <NA>    29.53     8.48  ...    96.68    86.77    15.69    -6.15   \n",
      "3     0.52     -1.7    12.17  ...    96.11     69.9   326.92    -30.5   \n",
      "4     0.75     2.83      2.4  ...    91.16    67.97   -22.31      0.8   \n",
      "\n",
      "  UBPRKW07 UBPRPG69 ID_RSSD   CERT Closing Date Failed  \n",
      "0     <NA>     2.08      37  10057          NaT      0  \n",
      "1     <NA>     1.71     242   3850          NaT      0  \n",
      "2     <NA>     1.27     279  28868          NaT      0  \n",
      "3     <NA>     1.02     354  14083          NaT      0  \n",
      "4     <NA>     1.93     439  16498          NaT      0  \n",
      "\n",
      "[5 rows x 38 columns]\n"
     ]
    }
   ],
   "source": [
    "# Merge Datasets\n",
    "print(\"\\nMerging Datasets...\")\n",
    "# Convert Reporting Period to datetime for merging\n",
    "ubpr['Reporting Period'] = pd.to_datetime(ubpr['Reporting Period'], errors='coerce')\n",
    "failures['Closing Date'] = pd.to_datetime(failures['Closing Date'], errors='coerce')\n",
    "\n",
    "# Merge UBPR with crosswalk to get CERT\n",
    "model_data = pd.merge(ubpr, crosswalk, left_on='ID RSSD', right_on='ID_RSSD', how='left')\n",
    "\n",
    "# Create a binary target: 1 if bank failed, 0 otherwise\n",
    "model_data = pd.merge(model_data, failures[['CERT', 'Closing Date']], on='CERT', how='left')\n",
    "model_data['Failed'] = data['Closing Date'].notna().astype(int)\n",
    "\n",
    "print(model_data.head())\n"
   ]
  },
  {
   "cell_type": "code",
   "execution_count": null,
   "id": "48c73b89",
   "metadata": {},
   "outputs": [
    {
     "data": {
      "text/plain": [
       "(595829, 38)"
      ]
     },
     "metadata": {},
     "output_type": "display_data"
    }
   ],
   "source": [
    "model_data.shape"
   ]
  },
  {
   "cell_type": "markdown",
   "id": "a08fcc28",
   "metadata": {},
   "source": [
    "# Organise data to improve readability"
   ]
  },
  {
   "cell_type": "code",
   "execution_count": null,
   "id": "f4f497ed",
   "metadata": {},
   "outputs": [
    {
     "name": "stdout",
     "output_type": "stream",
     "text": [
      "         Reporting Period Closing Date  ID RSSD  ID_RSSD   CERT UBPRD486  \\\n",
      "6706  2002-12-31 23:59:59          NaT  1000052  1000052  12241      8.2   \n",
      "34968 2003-03-31 23:59:59          NaT  1000052  1000052  12241     8.37   \n",
      "34969 2003-06-30 23:59:59          NaT  1000052  1000052  12241     7.94   \n",
      "34970 2003-09-30 23:59:59          NaT  1000052  1000052  12241     8.19   \n",
      "34967 2003-12-31 23:59:59          NaT  1000052  1000052  12241     8.12   \n",
      "\n",
      "      UBPRD488 UBPR7402 UBPRNC98 UBPR7408  ... UBPRE009 UBPRE010 UBPRE013  \\\n",
      "6706     10.46    28.16     6.91    11.96  ...     1.84     1.22     1.22   \n",
      "34968    11.07      0.0     8.32    11.44  ...     1.68     1.11     1.11   \n",
      "34969    10.39    99.01     7.58     3.61  ...     1.71     1.13     1.13   \n",
      "34970    11.04    65.23     5.72     7.31  ...     1.72     1.14     1.14   \n",
      "34967    10.48    87.54     5.51     1.69  ...     1.64     1.08     1.08   \n",
      "\n",
      "      UBPRK447 UBPRE014 UBPRE015 UBPRE029 UBPR7316 UBPRE027 UBPRE028  \n",
      "6706     13.79    95.02    78.63     1.54     3.69     2.43    77.44  \n",
      "34968    14.59    95.24    80.75    -1.88    -0.22     3.44     6.09  \n",
      "34969    18.34    95.01    80.78    -6.56      4.0      5.1    20.01  \n",
      "34970     14.9    95.32    80.48   -11.34     3.08     2.59    78.21  \n",
      "34967    15.63    95.29    80.22    -4.24     1.41     5.69    -7.14  \n",
      "\n",
      "[5 rows x 37 columns]\n"
     ]
    }
   ],
   "source": [
    "\n",
    "\n",
    "model_data = model_data.sort_values(by=[\"ID RSSD\", \"Reporting Period\"])\n",
    "\n",
    "desired_order = [\n",
    "    'Reporting Period', 'Closing Date', 'ID RSSD', 'ID_RSSD', 'CERT',\n",
    "    \"UBPRD486\",\n",
    "    \"UBPRD488\",\n",
    "    \"UBPR7402\",\n",
    "    \"UBPRNC98\",\n",
    "    \"UBPR7408\",\n",
    "    \"UBPRE022\",\n",
    "    \"UBPRE021\",\n",
    "    \"UBPRE395\",\n",
    "    \"UBPRE544\",\n",
    "    \"UBPR7414\",\n",
    "    \"UBPRE549\",\n",
    "    \"UBPRE019\",\n",
    "    \"UBPRE020\",\n",
    "    \"UBPRE001\",\n",
    "    \"UBPRE002\",\n",
    "    \"UBPRE003\",\n",
    "    \"UBPRE004\",\n",
    "    \"UBPRE005\",\n",
    "    \"UBPRPG69\",\n",
    "    \"UBPRE006\",\n",
    "    \"UBPRKW07\",\n",
    "    \"UBPRE007\",\n",
    "    \"UBPRE009\",\n",
    "    \"UBPRE010\",\n",
    "    \"UBPRE013\",\n",
    "    \"UBPRK447\",\n",
    "    \"UBPRE014\",\n",
    "    \"UBPRE015\",\n",
    "    \"UBPRE029\",\n",
    "    \"UBPR7316\",\n",
    "    \"UBPRE027\",\n",
    "    \"UBPRE028\"\n",
    "]\n",
    "\n",
    "\n",
    "model_data = model_data[desired_order]\n",
    "\n",
    "print(model_data.head())\n"
   ]
  },
  {
   "cell_type": "code",
   "execution_count": null,
   "id": "496b9364",
   "metadata": {},
   "outputs": [
    {
     "name": "stdout",
     "output_type": "stream",
     "text": [
      "         Reporting Period Closing Date  ID RSSD  ID_RSSD   CERT UBPRD486  \\\n",
      "6706  2002-12-31 23:59:59          NaT  1000052  1000052  12241      8.2   \n",
      "34968 2003-03-31 23:59:59          NaT  1000052  1000052  12241     8.37   \n",
      "34969 2003-06-30 23:59:59          NaT  1000052  1000052  12241     7.94   \n",
      "34970 2003-09-30 23:59:59          NaT  1000052  1000052  12241     8.19   \n",
      "34967 2003-12-31 23:59:59          NaT  1000052  1000052  12241     8.12   \n",
      "\n",
      "      UBPRD488 UBPR7402 UBPRNC98 UBPR7408  ... UBPRE010 UBPRE013 UBPRK447  \\\n",
      "6706     10.46    28.16     6.91    11.96  ...     1.22     1.22    13.79   \n",
      "34968    11.07      0.0     8.32    11.44  ...     1.11     1.11    14.59   \n",
      "34969    10.39    99.01     7.58     3.61  ...     1.13     1.13    18.34   \n",
      "34970    11.04    65.23     5.72     7.31  ...     1.14     1.14     14.9   \n",
      "34967    10.48    87.54     5.51     1.69  ...     1.08     1.08    15.63   \n",
      "\n",
      "      UBPRE014 UBPRE015 UBPRE029 UBPR7316 UBPRE027 UBPRE028 FAIL_FLAG  \n",
      "6706     95.02    78.63     1.54     3.69     2.43    77.44         0  \n",
      "34968    95.24    80.75    -1.88    -0.22     3.44     6.09         0  \n",
      "34969    95.01    80.78    -6.56      4.0      5.1    20.01         0  \n",
      "34970    95.32    80.48   -11.34     3.08     2.59    78.21         0  \n",
      "34967    95.29    80.22    -4.24     1.41     5.69    -7.14         0  \n",
      "\n",
      "[5 rows x 38 columns]\n"
     ]
    }
   ],
   "source": [
    "# Initialize target column to 0\n",
    "model_data[\"FAIL_FLAG\"] = 0\n",
    "\n",
    "# For banks with a closing date, find the last reporting period\n",
    "failed_banks = model_data.dropna(subset=[\"Closing Date\"])[\"CERT\"].unique()\n",
    "\n",
    "for cert in failed_banks:\n",
    "    bank_data = model_data[model_data[\"CERT\"] == cert]\n",
    "    \n",
    "    # Last reporting period before/at closing date\n",
    "    max_report = bank_data.loc[\n",
    "        bank_data[\"Reporting Period\"] <= bank_data[\"Closing Date\"].iloc[0],\n",
    "        \"Reporting Period\"\n",
    "    ].max()\n",
    "    \n",
    "    # Mark that row as failure (1)\n",
    "    model_data.loc[\n",
    "        (model_data[\"CERT\"] == cert) & \n",
    "        (model_data[\"Reporting Period\"] == max_report),\n",
    "        \"FAIL_FLAG\"\n",
    "    ] = 1\n",
    "\n",
    "\n",
    "print(model_data.head())"
   ]
  },
  {
   "cell_type": "code",
   "execution_count": null,
   "id": "b3a92cf1",
   "metadata": {},
   "outputs": [],
   "source": [
    "rename_map = {\n",
    "    \"UBPRD486\": \"Tier1_Leverage_Ratio\",\n",
    "    \"UBPRD488\": \"Total_Risk_Based_Capital_Ratio\",\n",
    "    \"UBPR7402\": \"Cash_Dividends_to_Net_Income\",\n",
    "    \"UBPRNC98\": \"Noncurrent_Loans_OREO_to_Tier1_ACL\",\n",
    "    \"UBPR7408\": \"Tier1_Capital_Growth_Rate\",\n",
    "    \"UBPRE022\": \"ACL_to_Loans_Leases_HFI\",\n",
    "    \"UBPRE021\": \"ACL_to_Net_Loan_Losses\",\n",
    "    \"UBPRE395\": \"ACL_to_Nonaccrual_Loans_Leases\",\n",
    "    \"UBPRE544\": \"Loans_30_89_Days_Past_Due_Ratio\",\n",
    "    \"UBPR7414\": \"Noncurrent_Loans_to_Gross_Loans\",\n",
    "    \"UBPRE549\": \"Noncurrent_Loans_OREO_to_Loans_OREO\",\n",
    "    \"UBPRE019\": \"Net_Loan_Losses_to_Avg_Loans\",\n",
    "    \"UBPRE020\": \"Earnings_Coverage_of_Net_Losses\",\n",
    "    \"UBPRE001\": \"Interest_Income_to_Avg_Assets\",\n",
    "    \"UBPRE002\": \"Interest_Expense_to_Avg_Assets\",\n",
    "    \"UBPRE003\": \"Net_Interest_Income_to_Avg_Assets\",\n",
    "    \"UBPRE004\": \"Noninterest_Income_to_Avg_Assets\",\n",
    "    \"UBPRE005\": \"Noninterest_Expense_to_Avg_Assets\",\n",
    "    \"UBPRPG69\": \"Pre_Provision_Net_Revenue_to_Avg_Assets\",\n",
    "    \"UBPRE006\": \"Provision_Loan_Losses_to_Avg_Assets\",\n",
    "    \"UBPRKW07\": \"Provision_Other_Assets_Losses_to_Avg_Assets\",\n",
    "    \"UBPRE007\": \"Pretax_Operating_Income_to_Avg_Assets\",\n",
    "    \"UBPRE009\": \"Pretax_Net_Operating_Income_to_Avg_Assets\",\n",
    "    \"UBPRE010\": \"Net_Operating_Income_to_Avg_Assets\",\n",
    "    \"UBPRE013\": \"Net_Income_to_Avg_Assets\",\n",
    "    \"UBPRK447\": \"Net_Noncore_Funding_Dependence\",\n",
    "    \"UBPRE014\": \"Avg_Earning_Assets_to_Avg_Assets\",\n",
    "    \"UBPRE015\": \"Avg_Interest_Bearing_Funds_to_Avg_Assets\",\n",
    "    \"UBPRE029\": \"Short_Term_Noncore_Funding_Growth\",\n",
    "    \"UBPR7316\": \"Total_Assets_Annual_Change\",\n",
    "    \"UBPRE027\": \"Net_Loans_Leases_Growth_Rate\",\n",
    "    \"UBPRE028\": \"Short_Term_Investments_Growth_Rate\"\n",
    "}\n"
   ]
  },
  {
   "cell_type": "code",
   "execution_count": null,
   "id": "801052c5",
   "metadata": {},
   "outputs": [],
   "source": [
    "data = model_data.rename(columns=rename_map)"
   ]
  },
  {
   "cell_type": "code",
   "execution_count": null,
   "id": "cabbbb85",
   "metadata": {},
   "outputs": [
    {
     "name": "stdout",
     "output_type": "stream",
     "text": [
      "Saved dataset to /Users/verena/Documents/Python_Projects/CreditModels/PD_FFIEC/data/processed/analysis_data.parquet\n"
     ]
    }
   ],
   "source": [
    "data.to_parquet(os.path.join(PROCESSED_DATA_DIR, 'analysis_data.parquet'), index=False)\n",
    "print(f\"Saved dataset to {os.path.join(PROCESSED_DATA_DIR, 'analysis_data.parquet')}\")\n"
   ]
  }
 ],
 "metadata": {
  "language_info": {
   "name": "python"
  }
 },
 "nbformat": 4,
 "nbformat_minor": 5
}
